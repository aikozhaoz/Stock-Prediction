{
  "nbformat": 4,
  "nbformat_minor": 0,
  "metadata": {
    "colab": {
      "name": "Stock Prediction using ML(Python).ipynb",
      "provenance": [],
      "collapsed_sections": [],
      "include_colab_link": true
    },
    "kernelspec": {
      "name": "python3",
      "display_name": "Python 3"
    }
  },
  "cells": [
    {
      "cell_type": "markdown",
      "metadata": {
        "id": "view-in-github",
        "colab_type": "text"
      },
      "source": [
        "<a href=\"https://colab.research.google.com/github/aikozhaoz/Stock-Prediction/blob/main/Stock_Prediction_using_ML(Python).ipynb\" target=\"_parent\"><img src=\"https://colab.research.google.com/assets/colab-badge.svg\" alt=\"Open In Colab\"/></a>"
      ]
    },
    {
      "cell_type": "code",
      "metadata": {
        "id": "-WxjagXoGFhR"
      },
      "source": [
        "# Description: This program uses an artificial recurrent neural network called Long Short Term Memory (LSTM) to predict the closing stock price of a corporation\n",
        "#              (NIO Inc.) using a 60-day duration stock price().\n",
        "#              Based on https://randerson112358.medium.com/stock-price-prediction-using-python-machine-learning-e82a039ac2bb.\n",
        "# See iPad's notes for more visual details"
      ],
      "execution_count": 1,
      "outputs": []
    },
    {
      "cell_type": "code",
      "metadata": {
        "id": "MLEzNQnJHF98"
      },
      "source": [
        "# Import the Libraries we need for this program\n",
        "import math\n",
        "import pandas_datareader as web\n",
        "import numpy as np\n",
        "import pandas as pd\n",
        "from sklearn.preprocessing import MinMaxScaler\n",
        "from keras.models import Sequential\n",
        "from keras.layers import Dense, LSTM\n",
        "import matplotlib.pyplot as plt\n",
        "plt.style.use('fivethirtyeight')"
      ],
      "execution_count": 2,
      "outputs": []
    },
    {
      "cell_type": "code",
      "metadata": {
        "colab": {
          "base_uri": "https://localhost:8080/",
          "height": 450
        },
        "id": "I9j6reKXGYf3",
        "outputId": "eb2631e5-7bd7-4187-9be8-5db1585dd683"
      },
      "source": [
        "# Get the stock quote from yahoo using pandas_datareader\n",
        "df = web.DataReader('NIO', data_source='yahoo', start='2020-01-03', end='2021-04-30')\n",
        "# Show the stock quote data \n",
        "df"
      ],
      "execution_count": 3,
      "outputs": [
        {
          "output_type": "execute_result",
          "data": {
            "text/html": [
              "<div>\n",
              "<style scoped>\n",
              "    .dataframe tbody tr th:only-of-type {\n",
              "        vertical-align: middle;\n",
              "    }\n",
              "\n",
              "    .dataframe tbody tr th {\n",
              "        vertical-align: top;\n",
              "    }\n",
              "\n",
              "    .dataframe thead th {\n",
              "        text-align: right;\n",
              "    }\n",
              "</style>\n",
              "<table border=\"1\" class=\"dataframe\">\n",
              "  <thead>\n",
              "    <tr style=\"text-align: right;\">\n",
              "      <th></th>\n",
              "      <th>High</th>\n",
              "      <th>Low</th>\n",
              "      <th>Open</th>\n",
              "      <th>Close</th>\n",
              "      <th>Volume</th>\n",
              "      <th>Adj Close</th>\n",
              "    </tr>\n",
              "    <tr>\n",
              "      <th>Date</th>\n",
              "      <th></th>\n",
              "      <th></th>\n",
              "      <th></th>\n",
              "      <th></th>\n",
              "      <th></th>\n",
              "      <th></th>\n",
              "    </tr>\n",
              "  </thead>\n",
              "  <tbody>\n",
              "    <tr>\n",
              "      <th>2020-01-03</th>\n",
              "      <td>3.900000</td>\n",
              "      <td>3.480000</td>\n",
              "      <td>3.500000</td>\n",
              "      <td>3.830000</td>\n",
              "      <td>82892400</td>\n",
              "      <td>3.830000</td>\n",
              "    </tr>\n",
              "    <tr>\n",
              "      <th>2020-01-06</th>\n",
              "      <td>4.240000</td>\n",
              "      <td>3.660000</td>\n",
              "      <td>4.190000</td>\n",
              "      <td>3.680000</td>\n",
              "      <td>106619700</td>\n",
              "      <td>3.680000</td>\n",
              "    </tr>\n",
              "    <tr>\n",
              "      <th>2020-01-07</th>\n",
              "      <td>3.730000</td>\n",
              "      <td>3.210000</td>\n",
              "      <td>3.700000</td>\n",
              "      <td>3.240000</td>\n",
              "      <td>106336400</td>\n",
              "      <td>3.240000</td>\n",
              "    </tr>\n",
              "    <tr>\n",
              "      <th>2020-01-08</th>\n",
              "      <td>3.490000</td>\n",
              "      <td>3.130000</td>\n",
              "      <td>3.140000</td>\n",
              "      <td>3.390000</td>\n",
              "      <td>65118100</td>\n",
              "      <td>3.390000</td>\n",
              "    </tr>\n",
              "    <tr>\n",
              "      <th>2020-01-09</th>\n",
              "      <td>3.580000</td>\n",
              "      <td>3.330000</td>\n",
              "      <td>3.440000</td>\n",
              "      <td>3.460000</td>\n",
              "      <td>54644200</td>\n",
              "      <td>3.460000</td>\n",
              "    </tr>\n",
              "    <tr>\n",
              "      <th>...</th>\n",
              "      <td>...</td>\n",
              "      <td>...</td>\n",
              "      <td>...</td>\n",
              "      <td>...</td>\n",
              "      <td>...</td>\n",
              "      <td>...</td>\n",
              "    </tr>\n",
              "    <tr>\n",
              "      <th>2021-04-26</th>\n",
              "      <td>43.220001</td>\n",
              "      <td>40.860001</td>\n",
              "      <td>41.959999</td>\n",
              "      <td>42.619999</td>\n",
              "      <td>88233500</td>\n",
              "      <td>42.619999</td>\n",
              "    </tr>\n",
              "    <tr>\n",
              "      <th>2021-04-27</th>\n",
              "      <td>43.130001</td>\n",
              "      <td>41.020000</td>\n",
              "      <td>43.020000</td>\n",
              "      <td>41.209999</td>\n",
              "      <td>69998800</td>\n",
              "      <td>41.209999</td>\n",
              "    </tr>\n",
              "    <tr>\n",
              "      <th>2021-04-28</th>\n",
              "      <td>41.950001</td>\n",
              "      <td>40.439999</td>\n",
              "      <td>40.740002</td>\n",
              "      <td>41.189999</td>\n",
              "      <td>57639600</td>\n",
              "      <td>41.189999</td>\n",
              "    </tr>\n",
              "    <tr>\n",
              "      <th>2021-04-29</th>\n",
              "      <td>41.490002</td>\n",
              "      <td>38.730000</td>\n",
              "      <td>41.380001</td>\n",
              "      <td>38.990002</td>\n",
              "      <td>82660700</td>\n",
              "      <td>38.990002</td>\n",
              "    </tr>\n",
              "    <tr>\n",
              "      <th>2021-04-30</th>\n",
              "      <td>41.220001</td>\n",
              "      <td>37.349998</td>\n",
              "      <td>37.730000</td>\n",
              "      <td>39.840000</td>\n",
              "      <td>116546500</td>\n",
              "      <td>39.840000</td>\n",
              "    </tr>\n",
              "  </tbody>\n",
              "</table>\n",
              "<p>334 rows × 6 columns</p>\n",
              "</div>"
            ],
            "text/plain": [
              "                 High        Low       Open      Close     Volume  Adj Close\n",
              "Date                                                                        \n",
              "2020-01-03   3.900000   3.480000   3.500000   3.830000   82892400   3.830000\n",
              "2020-01-06   4.240000   3.660000   4.190000   3.680000  106619700   3.680000\n",
              "2020-01-07   3.730000   3.210000   3.700000   3.240000  106336400   3.240000\n",
              "2020-01-08   3.490000   3.130000   3.140000   3.390000   65118100   3.390000\n",
              "2020-01-09   3.580000   3.330000   3.440000   3.460000   54644200   3.460000\n",
              "...               ...        ...        ...        ...        ...        ...\n",
              "2021-04-26  43.220001  40.860001  41.959999  42.619999   88233500  42.619999\n",
              "2021-04-27  43.130001  41.020000  43.020000  41.209999   69998800  41.209999\n",
              "2021-04-28  41.950001  40.439999  40.740002  41.189999   57639600  41.189999\n",
              "2021-04-29  41.490002  38.730000  41.380001  38.990002   82660700  38.990002\n",
              "2021-04-30  41.220001  37.349998  37.730000  39.840000  116546500  39.840000\n",
              "\n",
              "[334 rows x 6 columns]"
            ]
          },
          "metadata": {
            "tags": []
          },
          "execution_count": 3
        }
      ]
    },
    {
      "cell_type": "code",
      "metadata": {
        "colab": {
          "base_uri": "https://localhost:8080/"
        },
        "id": "47hfK9M1IEO0",
        "outputId": "68f27c89-96ac-4bdc-82be-0815494e19cb"
      },
      "source": [
        "# Get the number of rows and columns in the data set\n",
        "df.shape"
      ],
      "execution_count": 4,
      "outputs": [
        {
          "output_type": "execute_result",
          "data": {
            "text/plain": [
              "(334, 6)"
            ]
          },
          "metadata": {
            "tags": []
          },
          "execution_count": 4
        }
      ]
    },
    {
      "cell_type": "code",
      "metadata": {
        "colab": {
          "base_uri": "https://localhost:8080/",
          "height": 558
        },
        "id": "AUoxEkgNJt5d",
        "outputId": "53f4036e-b126-42b2-a6b5-2b586d039967"
      },
      "source": [
        "# Visualize the closing price history\n",
        "plt.figure(figsize=(16,8))\n",
        "plt.title('Close Price history')\n",
        "plt.plot(df['Close'])\n",
        "plt.xlabel('Date', fontsize=18)\n",
        "plt.ylabel('Close Price USD ($)', fontsize=18)\n",
        "plt.show()"
      ],
      "execution_count": 5,
      "outputs": [
        {
          "output_type": "display_data",
          "data": {
            "image/png": "[encoded data removed]",
            "text/plain": [
              "<Figure size 1152x576 with 1 Axes>"
            ]
          },
          "metadata": {
            "tags": []
          }
        }
      ]
    },
    {
      "cell_type": "code",
      "metadata": {
        "colab": {
          "base_uri": "https://localhost:8080/"
        },
        "id": "8DGkddtYKnRX",
        "outputId": "01db4675-37a9-4d3c-ff35-5a596e55976c"
      },
      "source": [
        "# Create a new dataframe with only the 'Close' column\n",
        "data = df.filter(['Close'])\n",
        "print(data)\n",
        "# Convert the datafram to a numpy array\n",
        "dataset = data.values\n",
        "# Get the number of rows to train the model on (80% the dataset we have)\n",
        "training_data_len = math.ceil(len(dataset) * .8)\n",
        "training_data_len"
      ],
      "execution_count": 6,
      "outputs": [
        {
          "output_type": "stream",
          "text": [
            "                Close\n",
            "Date                 \n",
            "2020-01-03   3.830000\n",
            "2020-01-06   3.680000\n",
            "2020-01-07   3.240000\n",
            "2020-01-08   3.390000\n",
            "2020-01-09   3.460000\n",
            "...               ...\n",
            "2021-04-26  42.619999\n",
            "2021-04-27  41.209999\n",
            "2021-04-28  41.189999\n",
            "2021-04-29  38.990002\n",
            "2021-04-30  39.840000\n",
            "\n",
            "[334 rows x 1 columns]\n"
          ],
          "name": "stdout"
        },
        {
          "output_type": "execute_result",
          "data": {
            "text/plain": [
              "268"
            ]
          },
          "metadata": {
            "tags": []
          },
          "execution_count": 6
        }
      ]
    },
    {
      "cell_type": "code",
      "metadata": {
        "colab": {
          "base_uri": "https://localhost:8080/"
        },
        "id": "607TaSheLnHm",
        "outputId": "c2be2747-8a4f-4887-eaf8-5a1bbc5af48f"
      },
      "source": [
        "# Scale the data \n",
        "# Build the scaler using MinMaxScaler(set the range from 0 to 1 INCLUSIVE)\n",
        "scaler = MinMaxScaler(feature_range=(0,1))\n",
        "# Transform the dataset(numpy array) we got from the dataframe to scaled data\n",
        "scaled_data = scaler.fit_transform(dataset)\n",
        "scaled_data"
      ],
      "execution_count": 7,
      "outputs": [
        {
          "output_type": "execute_result",
          "data": {
            "text/plain": [
              "array([[2.41442043e-02],\n",
              "       [2.16636378e-02],\n",
              "       [1.43873015e-02],\n",
              "       [1.68678719e-02],\n",
              "       [1.80254696e-02],\n",
              "       [1.88523251e-02],\n",
              "       [2.19943800e-02],\n",
              "       [2.29866066e-02],\n",
              "       [3.17512827e-02],\n",
              "       [3.30742515e-02],\n",
              "       [3.80353924e-02],\n",
              "       [4.63039553e-02],\n",
              "       [4.00198456e-02],\n",
              "       [4.21696739e-02],\n",
              "       [3.78700174e-02],\n",
              "       [2.71208919e-02],\n",
              "       [3.04283139e-02],\n",
              "       [3.14205405e-02],\n",
              "       [2.82784857e-02],\n",
              "       [2.33173488e-02],\n",
              "       [2.79477435e-02],\n",
              "       [3.53894548e-02],\n",
              "       [3.34049937e-02],\n",
              "       [2.82784857e-02],\n",
              "       [2.38134621e-02],\n",
              "       [2.48056887e-02],\n",
              "       [2.62940325e-02],\n",
              "       [2.81131185e-02],\n",
              "       [2.74516341e-02],\n",
              "       [2.31519777e-02],\n",
              "       [2.36480910e-02],\n",
              "       [2.82784857e-02],\n",
              "       [3.12551734e-02],\n",
              "       [2.82784857e-02],\n",
              "       [2.49710637e-02],\n",
              "       [3.35703688e-02],\n",
              "       [3.25781422e-02],\n",
              "       [2.92707123e-02],\n",
              "       [2.91053451e-02],\n",
              "       [2.87746029e-02],\n",
              "       [2.79477435e-02],\n",
              "       [2.48056887e-02],\n",
              "       [2.23251222e-02],\n",
              "       [1.95138095e-02],\n",
              "       [1.52141570e-02],\n",
              "       [1.86869540e-02],\n",
              "       [1.57102703e-02],\n",
              "       [1.25682194e-02],\n",
              "       [1.22374732e-02],\n",
              "       [9.42616453e-03],\n",
              "       [8.76468013e-03],\n",
              "       [9.92230543e-04],\n",
              "       [1.65375043e-04],\n",
              "       [4.96117243e-04],\n",
              "       [0.00000000e+00],\n",
              "       [3.80353924e-03],\n",
              "       [6.44948079e-03],\n",
              "       [9.26079343e-03],\n",
              "       [7.77244959e-03],\n",
              "       [5.62262529e-03],\n",
              "       [6.78022299e-03],\n",
              "       [4.63039869e-03],\n",
              "       [3.30746143e-04],\n",
              "       [4.96117243e-04],\n",
              "       [1.65371494e-03],\n",
              "       [5.45725419e-03],\n",
              "       [6.11873859e-03],\n",
              "       [4.96114089e-03],\n",
              "       [9.92227783e-03],\n",
              "       [1.05837622e-02],\n",
              "       [1.37258171e-02],\n",
              "       [1.45526726e-02],\n",
              "       [1.38911882e-02],\n",
              "       [1.35604460e-02],\n",
              "       [1.07491333e-02],\n",
              "       [1.19067310e-02],\n",
              "       [1.14106177e-02],\n",
              "       [9.42616453e-03],\n",
              "       [1.43873015e-02],\n",
              "       [1.60410125e-02],\n",
              "       [2.05060361e-02],\n",
              "       [1.71986141e-02],\n",
              "       [1.33950749e-02],\n",
              "       [1.60410125e-02],\n",
              "       [1.50487859e-02],\n",
              "       [2.06714072e-02],\n",
              "       [2.08367823e-02],\n",
              "       [2.31519777e-02],\n",
              "       [2.26558644e-02],\n",
              "       [2.06714072e-02],\n",
              "       [1.76947274e-02],\n",
              "       [1.78600985e-02],\n",
              "       [1.65371258e-02],\n",
              "       [2.05060361e-02],\n",
              "       [2.18290089e-02],\n",
              "       [1.83562118e-02],\n",
              "       [1.58756414e-02],\n",
              "       [1.48834148e-02],\n",
              "       [2.39788332e-02],\n",
              "       [2.97668295e-02],\n",
              "       [2.41442043e-02],\n",
              "       [2.66247747e-02],\n",
              "       [3.12551734e-02],\n",
              "       [3.85315018e-02],\n",
              "       [5.34149166e-02],\n",
              "       [5.95336512e-02],\n",
              "       [5.32495494e-02],\n",
              "       [5.95336512e-02],\n",
              "       [7.12750111e-02],\n",
              "       [6.49909093e-02],\n",
              "       [5.85414246e-02],\n",
              "       [6.16834795e-02],\n",
              "       [7.37555816e-02],\n",
              "       [7.64015192e-02],\n",
              "       [7.39209566e-02],\n",
              "       [7.95435740e-02],\n",
              "       [8.21895195e-02],\n",
              "       [8.36778555e-02],\n",
              "       [8.03704335e-02],\n",
              "       [7.42516988e-02],\n",
              "       [7.78898630e-02],\n",
              "       [7.49131832e-02],\n",
              "       [8.03704335e-02],\n",
              "       [8.84736213e-02],\n",
              "       [9.16156762e-02],\n",
              "       [1.15925255e-01],\n",
              "       [1.51149335e-01],\n",
              "       [1.79427821e-01],\n",
              "       [1.73805196e-01],\n",
              "       [2.01752931e-01],\n",
              "       [2.08533150e-01],\n",
              "       [1.89680837e-01],\n",
              "       [1.93815118e-01],\n",
              "       [1.84388962e-01],\n",
              "       [1.74797414e-01],\n",
              "       [1.44203741e-01],\n",
              "       [1.72812961e-01],\n",
              "       [1.73805196e-01],\n",
              "       [1.65536633e-01],\n",
              "       [1.61733086e-01],\n",
              "       [1.56275835e-01],\n",
              "       [1.54126007e-01],\n",
              "       [1.63717555e-01],\n",
              "       [1.70828508e-01],\n",
              "       [1.62559945e-01],\n",
              "       [1.58260289e-01],\n",
              "       [1.85711931e-01],\n",
              "       [1.86373415e-01],\n",
              "       [1.91003806e-01],\n",
              "       [1.89680837e-01],\n",
              "       [1.82735243e-01],\n",
              "       [1.95799572e-01],\n",
              "       [1.75624274e-01],\n",
              "       [1.81743008e-01],\n",
              "       [1.81743008e-01],\n",
              "       [1.77443368e-01],\n",
              "       [1.93153634e-01],\n",
              "       [1.97287916e-01],\n",
              "       [1.93319009e-01],\n",
              "       [1.88688603e-01],\n",
              "       [1.94311228e-01],\n",
              "       [2.08367791e-01],\n",
              "       [2.55829340e-01],\n",
              "       [2.98825873e-01],\n",
              "       [2.89565060e-01],\n",
              "       [2.66743841e-01],\n",
              "       [2.75508529e-01],\n",
              "       [2.93533998e-01],\n",
              "       [2.89895810e-01],\n",
              "       [2.70051278e-01],\n",
              "       [2.58144528e-01],\n",
              "       [2.42434277e-01],\n",
              "       [2.59963622e-01],\n",
              "       [2.54175621e-01],\n",
              "       [2.57979153e-01],\n",
              "       [2.70547372e-01],\n",
              "       [2.78154466e-01],\n",
              "       [2.75177779e-01],\n",
              "       [2.79973529e-01],\n",
              "       [2.81792623e-01],\n",
              "       [2.71870341e-01],\n",
              "       [2.78815935e-01],\n",
              "       [2.57813778e-01],\n",
              "       [2.55994715e-01],\n",
              "       [2.63767153e-01],\n",
              "       [2.71870341e-01],\n",
              "       [3.05606093e-01],\n",
              "       [3.11724811e-01],\n",
              "       [3.20654874e-01],\n",
              "       [3.11063343e-01],\n",
              "       [3.17843562e-01],\n",
              "       [3.02629405e-01],\n",
              "       [3.17347437e-01],\n",
              "       [3.15362999e-01],\n",
              "       [3.15859093e-01],\n",
              "       [3.22143218e-01],\n",
              "       [3.18339687e-01],\n",
              "       [3.99040847e-01],\n",
              "       [4.25004129e-01],\n",
              "       [4.31784348e-01],\n",
              "       [4.17727785e-01],\n",
              "       [4.23185035e-01],\n",
              "       [4.21531348e-01],\n",
              "       [4.13593504e-01],\n",
              "       [4.09955347e-01],\n",
              "       [3.90937659e-01],\n",
              "       [4.31122880e-01],\n",
              "       [4.15743348e-01],\n",
              "       [4.89829664e-01],\n",
              "       [4.66512319e-01],\n",
              "       [5.11824040e-01],\n",
              "       [5.47874979e-01],\n",
              "       [5.84422012e-01],\n",
              "       [6.61154265e-01],\n",
              "       [6.49247577e-01],\n",
              "       [6.88771298e-01],\n",
              "       [6.47924577e-01],\n",
              "       [6.73226422e-01],\n",
              "       [7.59550176e-01],\n",
              "       [6.97701361e-01],\n",
              "       [7.14569237e-01],\n",
              "       [7.31271706e-01],\n",
              "       [7.05969924e-01],\n",
              "       [7.62030770e-01],\n",
              "       [7.75260458e-01],\n",
              "       [8.76633057e-01],\n",
              "       [8.45708586e-01],\n",
              "       [8.48685274e-01],\n",
              "       [8.53811806e-01],\n",
              "       [7.96427959e-01],\n",
              "       [7.10931049e-01],\n",
              "       [7.54258301e-01],\n",
              "       [7.10765642e-01],\n",
              "       [6.72564922e-01],\n",
              "       [7.06796768e-01],\n",
              "       [7.30775613e-01],\n",
              "       [6.88605891e-01],\n",
              "       [7.08615862e-01],\n",
              "       [6.55035546e-01],\n",
              "       [6.38498420e-01],\n",
              "       [6.80171985e-01],\n",
              "       [6.99520392e-01],\n",
              "       [7.21514799e-01],\n",
              "       [7.33421550e-01],\n",
              "       [7.70299333e-01],\n",
              "       [7.47643488e-01],\n",
              "       [7.38217269e-01],\n",
              "       [7.17711268e-01],\n",
              "       [6.89432798e-01],\n",
              "       [7.23829987e-01],\n",
              "       [7.60873176e-01],\n",
              "       [7.66826552e-01],\n",
              "       [8.45377899e-01],\n",
              "       [8.40582118e-01],\n",
              "       [7.95931865e-01],\n",
              "       [8.58442181e-01],\n",
              "       [9.35174434e-01],\n",
              "       [9.97684812e-01],\n",
              "       [9.86770312e-01],\n",
              "       [9.88589406e-01],\n",
              "       [9.67421842e-01],\n",
              "       [8.91351089e-01],\n",
              "       [9.27236621e-01],\n",
              "       [9.15164527e-01],\n",
              "       [9.25582934e-01],\n",
              "       [9.85281968e-01],\n",
              "       [9.52869217e-01],\n",
              "       [9.58161092e-01],\n",
              "       [9.05903777e-01],\n",
              "       [9.26079028e-01],\n",
              "       [9.03423183e-01],\n",
              "       [9.03257839e-01],\n",
              "       [8.83082526e-01],\n",
              "       [9.19629559e-01],\n",
              "       [9.13345433e-01],\n",
              "       [8.97965901e-01],\n",
              "       [9.37655028e-01],\n",
              "       [1.00000000e+00],\n",
              "       [9.73871311e-01],\n",
              "       [9.57499592e-01],\n",
              "       [9.50553966e-01],\n",
              "       [9.40300966e-01],\n",
              "       [9.08715058e-01],\n",
              "       [8.60922775e-01],\n",
              "       [8.71010432e-01],\n",
              "       [7.98908553e-01],\n",
              "       [7.72945271e-01],\n",
              "       [8.18422367e-01],\n",
              "       [7.34909894e-01],\n",
              "       [7.17876612e-01],\n",
              "       [7.83694365e-01],\n",
              "       [6.76699204e-01],\n",
              "       [6.47593827e-01],\n",
              "       [6.10385294e-01],\n",
              "       [5.91036887e-01],\n",
              "       [5.43079197e-01],\n",
              "       [6.44617139e-01],\n",
              "       [6.44121046e-01],\n",
              "       [7.22010893e-01],\n",
              "       [7.13246237e-01],\n",
              "       [7.03820080e-01],\n",
              "       [6.83148673e-01],\n",
              "       [7.01008736e-01],\n",
              "       [6.49247577e-01],\n",
              "       [6.77691391e-01],\n",
              "       [6.70911172e-01],\n",
              "       [6.41805858e-01],\n",
              "       [5.72019167e-01],\n",
              "       [5.88225543e-01],\n",
              "       [5.58293386e-01],\n",
              "       [5.48040322e-01],\n",
              "       [5.81776074e-01],\n",
              "       [6.05424169e-01],\n",
              "       [6.16669420e-01],\n",
              "       [6.10881451e-01],\n",
              "       [6.22292045e-01],\n",
              "       [5.77145699e-01],\n",
              "       [6.00793794e-01],\n",
              "       [5.91202231e-01],\n",
              "       [5.74995855e-01],\n",
              "       [5.97155606e-01],\n",
              "       [5.73011418e-01],\n",
              "       [5.50520916e-01],\n",
              "       [5.57631886e-01],\n",
              "       [5.69042480e-01],\n",
              "       [5.71523074e-01],\n",
              "       [6.04101232e-01],\n",
              "       [6.15181076e-01],\n",
              "       [6.40152171e-01],\n",
              "       [6.65619297e-01],\n",
              "       [6.42301952e-01],\n",
              "       [6.41971202e-01],\n",
              "       [6.05589576e-01],\n",
              "       [6.19646107e-01]])"
            ]
          },
          "metadata": {
            "tags": []
          },
          "execution_count": 7
        }
      ]
    },
    {
      "cell_type": "code",
      "metadata": {
        "id": "7JicYUFeMmAa",
        "colab": {
          "base_uri": "https://localhost:8080/"
        },
        "outputId": "3be5c4ec-e191-4b8d-f017-e58926efa935"
      },
      "source": [
        "# Create the training data set\n",
        "# Create the scaled training data set\n",
        "# train_data is a 2D array\n",
        "train_data = scaled_data[0:training_data_len , :]\n",
        "# Split the data into x_train and y_train data sets\n",
        "# x_train: independent training variable\n",
        "# y_train: dependent training variable\n",
        "x_train = []\n",
        "y_train = []\n",
        "\n",
        "\n",
        "for i in range(60, len(train_data)):\n",
        "# First iteration\n",
        "# x_train: train_data first 60 rows, column 0. [NOT include position i row]\n",
        "  x_train.append(train_data[i-60:i, 0])\n",
        "# y_train: train_data the 60th value (append only ONE INDIVIDUAL VALUE each iteration) , column 0.\n",
        "  y_train.append(train_data[i, 0])\n",
        "  if i<=61:\n",
        "    print(x_train)\n",
        "    print()\n",
        "    print(y_train)\n",
        "    print()\n",
        "    print()\n",
        "    print()\n",
        "    "
      ],
      "execution_count": 8,
      "outputs": [
        {
          "output_type": "stream",
          "text": [
            "[array([0.0241442 , 0.02166364, 0.0143873 , 0.01686787, 0.01802547,\n",
            "       0.01885233, 0.02199438, 0.02298661, 0.03175128, 0.03307425,\n",
            "       0.03803539, 0.04630396, 0.04001985, 0.04216967, 0.03787002,\n",
            "       0.02712089, 0.03042831, 0.03142054, 0.02827849, 0.02331735,\n",
            "       0.02794774, 0.03538945, 0.03340499, 0.02827849, 0.02381346,\n",
            "       0.02480569, 0.02629403, 0.02811312, 0.02745163, 0.02315198,\n",
            "       0.02364809, 0.02827849, 0.03125517, 0.02827849, 0.02497106,\n",
            "       0.03357037, 0.03257814, 0.02927071, 0.02910535, 0.0287746 ,\n",
            "       0.02794774, 0.02480569, 0.02232512, 0.01951381, 0.01521416,\n",
            "       0.01868695, 0.01571027, 0.01256822, 0.01223747, 0.00942616,\n",
            "       0.00876468, 0.00099223, 0.00016538, 0.00049612, 0.        ,\n",
            "       0.00380354, 0.00644948, 0.00926079, 0.00777245, 0.00562263])]\n",
            "\n",
            "[0.006780222986938547]\n",
            "\n",
            "\n",
            "\n",
            "[array([0.0241442 , 0.02166364, 0.0143873 , 0.01686787, 0.01802547,\n",
            "       0.01885233, 0.02199438, 0.02298661, 0.03175128, 0.03307425,\n",
            "       0.03803539, 0.04630396, 0.04001985, 0.04216967, 0.03787002,\n",
            "       0.02712089, 0.03042831, 0.03142054, 0.02827849, 0.02331735,\n",
            "       0.02794774, 0.03538945, 0.03340499, 0.02827849, 0.02381346,\n",
            "       0.02480569, 0.02629403, 0.02811312, 0.02745163, 0.02315198,\n",
            "       0.02364809, 0.02827849, 0.03125517, 0.02827849, 0.02497106,\n",
            "       0.03357037, 0.03257814, 0.02927071, 0.02910535, 0.0287746 ,\n",
            "       0.02794774, 0.02480569, 0.02232512, 0.01951381, 0.01521416,\n",
            "       0.01868695, 0.01571027, 0.01256822, 0.01223747, 0.00942616,\n",
            "       0.00876468, 0.00099223, 0.00016538, 0.00049612, 0.        ,\n",
            "       0.00380354, 0.00644948, 0.00926079, 0.00777245, 0.00562263]), array([0.02166364, 0.0143873 , 0.01686787, 0.01802547, 0.01885233,\n",
            "       0.02199438, 0.02298661, 0.03175128, 0.03307425, 0.03803539,\n",
            "       0.04630396, 0.04001985, 0.04216967, 0.03787002, 0.02712089,\n",
            "       0.03042831, 0.03142054, 0.02827849, 0.02331735, 0.02794774,\n",
            "       0.03538945, 0.03340499, 0.02827849, 0.02381346, 0.02480569,\n",
            "       0.02629403, 0.02811312, 0.02745163, 0.02315198, 0.02364809,\n",
            "       0.02827849, 0.03125517, 0.02827849, 0.02497106, 0.03357037,\n",
            "       0.03257814, 0.02927071, 0.02910535, 0.0287746 , 0.02794774,\n",
            "       0.02480569, 0.02232512, 0.01951381, 0.01521416, 0.01868695,\n",
            "       0.01571027, 0.01256822, 0.01223747, 0.00942616, 0.00876468,\n",
            "       0.00099223, 0.00016538, 0.00049612, 0.        , 0.00380354,\n",
            "       0.00644948, 0.00926079, 0.00777245, 0.00562263, 0.00678022])]\n",
            "\n",
            "[0.006780222986938547, 0.0046303986864875135]\n",
            "\n",
            "\n",
            "\n"
          ],
          "name": "stdout"
        }
      ]
    },
    {
      "cell_type": "code",
      "metadata": {
        "id": "HeoKyJNxmlg0"
      },
      "source": [
        "#Convert the x_train and y_train to numpy arrays so we can use them to treat the LSTM model\n",
        "x_train, y_train = np.array(x_train), np.array(y_train)"
      ],
      "execution_count": 9,
      "outputs": []
    },
    {
      "cell_type": "code",
      "metadata": {
        "colab": {
          "base_uri": "https://localhost:8080/"
        },
        "id": "aH9XaOfh2Tcc",
        "outputId": "c6f0be38-cfa9-490e-9aa2-7624dc8e0394"
      },
      "source": [
        "# Reshape the data\n",
        "# LSTM network expects the input to be 3-dimensional in the form of (# of samples, # of time steps, # of features)\n",
        "# Right now our x_train dataset is 2-dimensional (rows, columns)\n",
        "# In our case: # of samples = 208, # of time steps = 60, # of features = 1 (closing price)\n",
        "x_train = np.reshape(x_train,(x_train.shape[0],x_train.shape[1],1))\n",
        "x_train.shape"
      ],
      "execution_count": 10,
      "outputs": [
        {
          "output_type": "execute_result",
          "data": {
            "text/plain": [
              "(208, 60, 1)"
            ]
          },
          "metadata": {
            "tags": []
          },
          "execution_count": 10
        }
      ]
    },
    {
      "cell_type": "code",
      "metadata": {
        "id": "LTgNlE0j2dtY"
      },
      "source": [
        "# Build the LSTM model\n",
        "# Go back and check LSTM model for details\n",
        "model = Sequential()\n",
        "# 50 = 50 neurons\n",
        "# 1 = # of features\n",
        "# First layer\n",
        "model.add(LSTM(50, return_sequences=True, input_shape=(x_train.shape[1],1)))\n",
        "# Second layer\n",
        "model.add(LSTM(50, return_sequences=False))\n",
        "# Note on Dense Layer:\n",
        "# A Dense layer feeds all outputs from the previous layer to all its neurons, each neuron providing one output to the next layer. It's the most basic layer in neural networks.\n",
        "model.add(Dense(25))\n",
        "# Last layer neuron number = 1: because we are only predicting one closing price in this project\n",
        "model.add(Dense(1))"
      ],
      "execution_count": 38,
      "outputs": []
    },
    {
      "cell_type": "code",
      "metadata": {
        "id": "qhO17o27oC9s"
      },
      "source": [
        "# Compile the model\n",
        "# Optimizer: use to improve upon the loss function\n",
        "# Loss function: use to measure how well the model did on training\n",
        "model.compile(optimizer = 'adam', loss = 'mean_squared_error')"
      ],
      "execution_count": 39,
      "outputs": []
    },
    {
      "cell_type": "code",
      "metadata": {
        "colab": {
          "base_uri": "https://localhost:8080/"
        },
        "id": "QmX922qSohM_",
        "outputId": "39d15686-19ba-44cc-fbd1-eb37fe409561"
      },
      "source": [
        "# Train the model using x_train dataset and y_train dataset\n",
        "# fit: train\n",
        "# batch_size: the total number of training examples present in a single batch\n",
        "# epochs: number of iterations when an entire dataset is passed forward and backward through a neural network\n",
        "model.fit(x_train, y_train, batch_size = 1, epochs = 1)"
      ],
      "execution_count": 40,
      "outputs": [
        {
          "output_type": "stream",
          "text": [
            "208/208 [==============================] - 7s 21ms/step - loss: 0.0169\n"
          ],
          "name": "stdout"
        },
        {
          "output_type": "execute_result",
          "data": {
            "text/plain": [
              "<keras.callbacks.History at 0x7f02b9545490>"
            ]
          },
          "metadata": {
            "tags": []
          },
          "execution_count": 40
        }
      ]
    },
    {
      "cell_type": "code",
      "metadata": {
        "id": "nc1jpMw1pxtr",
        "colab": {
          "base_uri": "https://localhost:8080/"
        },
        "outputId": "cf3499f5-a314-42a6-dbfa-c9e91d6ef524"
      },
      "source": [
        "# Create the testing data set\n",
        "# Create a new array containing scaled values from idex 136 to 196\n",
        "test_data = scaled_data[training_data_len - 60 : , :]\n",
        "# print(test_data)\n",
        "# Create the datasets x_test and y_test\n",
        "x_test = []\n",
        "# y_test: actual test values\n",
        "# y_test: all of the values that we want our model to predict (196th and above)\n",
        "# x_test: past 60 values(Think about samples in STATS), basically the upper 20% data from the dataset\n",
        "y_test = dataset[training_data_len:, :]\n",
        "print(len(y_test))\n",
        "print()\n",
        "for i in range (60, len(test_data)):\n",
        "  x_test.append(test_data[i-60:i, 0])\n",
        "  if i==(60):\n",
        "    print(x_test)\n",
        "\n"
      ],
      "execution_count": 41,
      "outputs": [
        {
          "output_type": "stream",
          "text": [
            "66\n",
            "\n",
            "[array([0.48982966, 0.46651232, 0.51182404, 0.54787498, 0.58442201,\n",
            "       0.66115427, 0.64924758, 0.6887713 , 0.64792458, 0.67322642,\n",
            "       0.75955018, 0.69770136, 0.71456924, 0.73127171, 0.70596992,\n",
            "       0.76203077, 0.77526046, 0.87663306, 0.84570859, 0.84868527,\n",
            "       0.85381181, 0.79642796, 0.71093105, 0.7542583 , 0.71076564,\n",
            "       0.67256492, 0.70679677, 0.73077561, 0.68860589, 0.70861586,\n",
            "       0.65503555, 0.63849842, 0.68017198, 0.69952039, 0.7215148 ,\n",
            "       0.73342155, 0.77029933, 0.74764349, 0.73821727, 0.71771127,\n",
            "       0.6894328 , 0.72382999, 0.76087318, 0.76682655, 0.8453779 ,\n",
            "       0.84058212, 0.79593187, 0.85844218, 0.93517443, 0.99768481,\n",
            "       0.98677031, 0.98858941, 0.96742184, 0.89135109, 0.92723662,\n",
            "       0.91516453, 0.92558293, 0.98528197, 0.95286922, 0.95816109])]\n"
          ],
          "name": "stdout"
        }
      ]
    },
    {
      "cell_type": "code",
      "metadata": {
        "id": "AqHTaZzltjF3"
      },
      "source": [
        "# Convert the data(x_test) to a numpy array\n",
        "x_test = np.array(x_test)\n",
        "# Reshape the data into the shape accepted by the LSTM\n",
        "x_test = np.reshape(x_test, (x_test.shape[0], x_test.shape[1], 1))"
      ],
      "execution_count": 42,
      "outputs": []
    },
    {
      "cell_type": "code",
      "metadata": {
        "id": "nmSdrSpM6c22"
      },
      "source": [
        "# Get the models predicted price values\n",
        "# After this step the value you get is going to be scaled\n",
        "predictions = model.predict(x_test)\n",
        "# Transform the scaled data to actual one\n",
        "# Think about transform Standard Deviation to actual number\n",
        "predictions = scaler.inverse_transform(predictions) # Undo scaling"
      ],
      "execution_count": 43,
      "outputs": []
    },
    {
      "cell_type": "code",
      "metadata": {
        "colab": {
          "base_uri": "https://localhost:8080/"
        },
        "id": "bG-RbJiZ0XZk",
        "outputId": "ea6e4fe2-f340-43dc-d0e8-32869a7f56af"
      },
      "source": [
        "# Calculate the value of root mean squared error (RMSE),\n",
        "# Which is a good measure of how accurate the model is: the lower the value, the better the model performed, 0 being a perfect match\n",
        "# Note: prediction is what we predicted, y_test is what the actual value is\n",
        "rmse = np.sqrt(np.mean(((predictions-y_test)**2)))\n",
        "rmse"
      ],
      "execution_count": 44,
      "outputs": [
        {
          "output_type": "execute_result",
          "data": {
            "text/plain": [
              "9.961754024363094"
            ]
          },
          "metadata": {
            "tags": []
          },
          "execution_count": 44
        }
      ]
    },
    {
      "cell_type": "code",
      "metadata": {
        "colab": {
          "base_uri": "https://localhost:8080/",
          "height": 660
        },
        "id": "FqLewhrl00ts",
        "outputId": "3a1df726-5efe-434c-9058-c1ba34cacced"
      },
      "source": [
        "# Plot the data for the graph\n",
        "# data is the dataframe with only the 'Close' column\n",
        "train = data[:training_data_len]\n",
        "valid = data[training_data_len:]\n",
        "valid['Predictions'] = predictions\n",
        "\n",
        "# Visualize the data\n",
        "plt.figure(figsize=(16, 8))\n",
        "plt.title('Stock Prediction Model')\n",
        "plt.xlabel('Date', fontsize=18)\n",
        "plt.ylabel('Close Price USD ($)', fontsize=18)\n",
        "plt.plot(train['Close'])\n",
        "# plt.plot(valid[['Close', 'Predictions']])\n",
        "plt.plot(valid['Close'])\n",
        "plt.plot(valid['Predictions'])\n",
        "plt.legend(['Train', 'Val', 'Predictions'], loc='lower right')\n",
        "plt.show()"
      ],
      "execution_count": 45,
      "outputs": [
        {
          "output_type": "stream",
          "text": [
            "/usr/local/lib/python3.7/dist-packages/ipykernel_launcher.py:5: SettingWithCopyWarning: \n",
            "A value is trying to be set on a copy of a slice from a DataFrame.\n",
            "Try using .loc[row_indexer,col_indexer] = value instead\n",
            "\n",
            "See the caveats in the documentation: https://pandas.pydata.org/pandas-docs/stable/user_guide/indexing.html#returning-a-view-versus-a-copy\n",
            "  \"\"\"\n"
          ],
          "name": "stderr"
        },
        {
          "output_type": "display_data",
          "data": {
            "image/png": "[encoded data removed]",
            "text/plain": [
              "<Figure size 1152x576 with 1 Axes>"
            ]
          },
          "metadata": {
            "tags": []
          }
        }
      ]
    },
    {
      "cell_type": "code",
      "metadata": {
        "colab": {
          "base_uri": "https://localhost:8080/",
          "height": 450
        },
        "id": "gAZ7H6geyVQh",
        "outputId": "9c35c3d5-7f6b-4e4d-ca21-c13dbeddd444"
      },
      "source": [
        "# Show the valid and predicted prices\n",
        "valid"
      ],
      "execution_count": 46,
      "outputs": [
        {
          "output_type": "execute_result",
          "data": {
            "text/html": [
              "<div>\n",
              "<style scoped>\n",
              "    .dataframe tbody tr th:only-of-type {\n",
              "        vertical-align: middle;\n",
              "    }\n",
              "\n",
              "    .dataframe tbody tr th {\n",
              "        vertical-align: top;\n",
              "    }\n",
              "\n",
              "    .dataframe thead th {\n",
              "        text-align: right;\n",
              "    }\n",
              "</style>\n",
              "<table border=\"1\" class=\"dataframe\">\n",
              "  <thead>\n",
              "    <tr style=\"text-align: right;\">\n",
              "      <th></th>\n",
              "      <th>Close</th>\n",
              "      <th>Predictions</th>\n",
              "    </tr>\n",
              "    <tr>\n",
              "      <th>Date</th>\n",
              "      <th></th>\n",
              "      <th></th>\n",
              "    </tr>\n",
              "  </thead>\n",
              "  <tbody>\n",
              "    <tr>\n",
              "      <th>2021-01-27</th>\n",
              "      <td>57.150002</td>\n",
              "      <td>65.664444</td>\n",
              "    </tr>\n",
              "    <tr>\n",
              "      <th>2021-01-28</th>\n",
              "      <td>58.369999</td>\n",
              "      <td>65.747948</td>\n",
              "    </tr>\n",
              "    <tr>\n",
              "      <th>2021-01-29</th>\n",
              "      <td>57.000000</td>\n",
              "      <td>65.768837</td>\n",
              "    </tr>\n",
              "    <tr>\n",
              "      <th>2021-02-01</th>\n",
              "      <td>56.990002</td>\n",
              "      <td>65.671768</td>\n",
              "    </tr>\n",
              "    <tr>\n",
              "      <th>2021-02-02</th>\n",
              "      <td>55.770000</td>\n",
              "      <td>65.511246</td>\n",
              "    </tr>\n",
              "    <tr>\n",
              "      <th>...</th>\n",
              "      <td>...</td>\n",
              "      <td>...</td>\n",
              "    </tr>\n",
              "    <tr>\n",
              "      <th>2021-04-26</th>\n",
              "      <td>42.619999</td>\n",
              "      <td>44.737762</td>\n",
              "    </tr>\n",
              "    <tr>\n",
              "      <th>2021-04-27</th>\n",
              "      <td>41.209999</td>\n",
              "      <td>45.194542</td>\n",
              "    </tr>\n",
              "    <tr>\n",
              "      <th>2021-04-28</th>\n",
              "      <td>41.189999</td>\n",
              "      <td>45.651161</td>\n",
              "    </tr>\n",
              "    <tr>\n",
              "      <th>2021-04-29</th>\n",
              "      <td>38.990002</td>\n",
              "      <td>46.081760</td>\n",
              "    </tr>\n",
              "    <tr>\n",
              "      <th>2021-04-30</th>\n",
              "      <td>39.840000</td>\n",
              "      <td>46.337959</td>\n",
              "    </tr>\n",
              "  </tbody>\n",
              "</table>\n",
              "<p>66 rows × 2 columns</p>\n",
              "</div>"
            ],
            "text/plain": [
              "                Close  Predictions\n",
              "Date                              \n",
              "2021-01-27  57.150002    65.664444\n",
              "2021-01-28  58.369999    65.747948\n",
              "2021-01-29  57.000000    65.768837\n",
              "2021-02-01  56.990002    65.671768\n",
              "2021-02-02  55.770000    65.511246\n",
              "...               ...          ...\n",
              "2021-04-26  42.619999    44.737762\n",
              "2021-04-27  41.209999    45.194542\n",
              "2021-04-28  41.189999    45.651161\n",
              "2021-04-29  38.990002    46.081760\n",
              "2021-04-30  39.840000    46.337959\n",
              "\n",
              "[66 rows x 2 columns]"
            ]
          },
          "metadata": {
            "tags": []
          },
          "execution_count": 46
        }
      ]
    },
    {
      "cell_type": "code",
      "metadata": {
        "colab": {
          "base_uri": "https://localhost:8080/"
        },
        "id": "7CdAcJqn2H9p",
        "outputId": "69037de2-1408-4e1c-df87-23cd64c7fa07"
      },
      "source": [
        "# Get the quote\n",
        "nio_quote = web.DataReader('NIO',\n",
        "                           data_source='yahoo',\n",
        "                           start='2020-01-03',\n",
        "                           end='2021-05-03')\n",
        "# Create a new dataframe contains the closing price only\n",
        "new_df = nio_quote.filter(['Close'])\n",
        "\n",
        "# Get the last 60 day closing price values and convert the dataframe into an array\n",
        "last_60_days = new_df[-60:].values\n",
        "\n",
        "# Scale the data to be values between 0 and 1\n",
        "last_60_days_scaled = scaler.transform(last_60_days)\n",
        "\n",
        "# Create an empty list\n",
        "new_x_test = []\n",
        "\n",
        "# Append the past 60 days to new_x_test. \n",
        "new_x_test.append(last_60_days_scaled)\n",
        "# Convert data set to a numpy array\n",
        "new_x_test = np.array(new_x_test)\n",
        "\n",
        "# reshape the data into the shape accepted by the LSTM\n",
        "new_x_test = np.reshape(new_x_test,\n",
        "                        (new_x_test.shape[0], new_x_test.shape[1], 1))\n",
        "# Get the predicted scaled price\n",
        "pred_price = model.predict(new_x_test)\n",
        "# Undo the scaling\n",
        "pred_price = scaler.inverse_transform(pred_price)\n",
        "\n",
        "print(pred_price)\n",
        "\n"
      ],
      "execution_count": 47,
      "outputs": [
        {
          "output_type": "stream",
          "text": [
            "[[46.637714]]\n"
          ],
          "name": "stdout"
        }
      ]
    },
    {
      "cell_type": "code",
      "metadata": {
        "colab": {
          "base_uri": "https://localhost:8080/"
        },
        "id": "KT-lsrf_5qjH",
        "outputId": "aaf9f74f-3291-45aa-baf3-21ea84d2e958"
      },
      "source": [
        "# See what the actual price was\n",
        "# Get the quote\n",
        "actual_nio_price = web.DataReader('NIO',\n",
        "                                  data_source='yahoo',\n",
        "                                  start='2021-05-03',\n",
        "                                  end='2021-05-03')\n",
        "print(actual_nio_price['Close'])"
      ],
      "execution_count": 48,
      "outputs": [
        {
          "output_type": "stream",
          "text": [
            "Date\n",
            "2021-05-03    39.540001\n",
            "Name: Close, dtype: float64\n"
          ],
          "name": "stdout"
        }
      ]
    },
    {
      "cell_type": "markdown",
      "metadata": {
        "id": "649qj_QF6b8j"
      },
      "source": [
        "More resources:\n",
        "\n",
        "*   https://www.datacamp.com/community/tutorials/lstm-python-stock-market#why\n",
        "*   https://pandas-datareader.readthedocs.io/en/latest/remote_data.html\n",
        "*   https://www.thepythoncode.com/article/stock-price-prediction-in-python-using-tensorflow-2-and-keras\n",
        "*   https://www.analyticsvidhya.com/blog/2020/10/reinforcement-learning-stock-price-prediction/\n"
      ]
    },
    {
      "cell_type": "markdown",
      "metadata": {
        "id": "wfTkYsjF3cNF"
      },
      "source": [
        ""
      ]
    }
  ]
}